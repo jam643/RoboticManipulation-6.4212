{
 "cells": [
  {
   "cell_type": "markdown",
   "metadata": {
    "cell_id": "8213b000f24348e3a2e32e0c37d5ff6b",
    "colab_type": "text",
    "deepnote_cell_type": "markdown",
    "id": "1VDev4CDWBdP"
   },
   "source": [
    "## **Differential IK as Optimization**"
   ]
  },
  {
   "cell_type": "code",
   "execution_count": 1,
   "metadata": {
    "cell_id": "2875c8ecbc1b4498823bf66be32a5226",
    "colab": {},
    "colab_type": "code",
    "deepnote_cell_type": "code",
    "id": "tFMmTfbHWQfh",
    "lines_to_end_of_cell_marker": 2
   },
   "outputs": [],
   "source": [
    "import numpy as np\n",
    "from pydrake.all import (\n",
    "    Box,\n",
    "    ConstantVectorSource,\n",
    "    DiagramBuilder,\n",
    "    Integrator,\n",
    "    JacobianWrtVariable,\n",
    "    LeafSystem,\n",
    "    MathematicalProgram,\n",
    "    Rgba,\n",
    "    RigidTransform,\n",
    "    Simulator,\n",
    "    SnoptSolver,\n",
    "    StartMeshcat,\n",
    "    ge,\n",
    "    le,\n",
    ")\n",
    "\n",
    "from manipulation import running_as_notebook\n",
    "from manipulation.exercises.grader import Grader\n",
    "from manipulation.exercises.pick.test_differential_ik import TestDifferentialIK\n",
    "from manipulation.station import LoadScenario, MakeHardwareStation\n",
    "from manipulation.utils import RenderDiagram"
   ]
  },
  {
   "cell_type": "code",
   "execution_count": 2,
   "metadata": {
    "cell_id": "e8b81aca84384e5c99a91b4ec9c21c11",
    "deepnote_cell_type": "code"
   },
   "outputs": [
    {
     "name": "stderr",
     "output_type": "stream",
     "text": [
      "INFO:drake:Meshcat listening for connections at http://localhost:7000\n"
     ]
    }
   ],
   "source": [
    "# Start the visualizer.\n",
    "meshcat = StartMeshcat()"
   ]
  },
  {
   "cell_type": "markdown",
   "metadata": {
    "cell_id": "0035c74ba239401a9e8b61f19dcdaa38",
    "colab_type": "text",
    "deepnote_cell_type": "markdown",
    "id": "mcSz0hOVtBd5"
   },
   "source": [
    "## Problem Description\n",
    "In the lecture, we learned about how to view Differential inverse kinematics as an instance of optimization. In this exercise, we will actually define and solve these optimization problems!\n",
    "\n",
    "The goal of the exercise is to see if you can apply the optimization techniques we learned in class to design your own controller.\n",
    "\n",
    "**These are the main steps of the exercise:**\n",
    "1. Write down the JacobianPseudoinverse controller as an optimization-based framework with joint-velocity constraints.\n",
    "2. Design and implement a virtual wall for the manipulator through constraints in the end-effector space."
   ]
  },
  {
   "cell_type": "markdown",
   "metadata": {
    "cell_id": "fee6f54f1dc44e549c1d913861693f92",
    "colab_type": "text",
    "deepnote_cell_type": "markdown",
    "id": "f6M3qJIHVQ-y"
   },
   "source": [
    "## The Differential IK System\n",
    "\n",
    "As we've seen in the lecture, a differential IK converts a desired end-effector velocity to joint velocities. From drake's system view of the world, how should we abstract this?\n",
    "\n",
    "It would be reasonable to make it a `LeafSystem`, where the input is `spatial velocity_desired`, and the output is `iiwa_velocity_commanded`. We might also need an input port of `iiwa_position_measured` since our Jacobian is a function of the joint angles, and `iiwa_velocity_esimated` in case we want to use that information.\n",
    "\n",
    "<img src=\"https://raw.githubusercontent.com/RussTedrake/manipulation/master/book/figures/exercises/diffik_system.png\" width=\"700\">\n",
    "\n",
    "Since we will be going through different implementations of DifferentialIK, let's set up a DifferentialIKSystem that accepts a function to compute joint velocities upon getting the Jacobian, desired spatial velocity, and other information from the robot."
   ]
  },
  {
   "cell_type": "markdown",
   "metadata": {
    "cell_id": "9a5eb032d65349b3a8f81c75ee0f9022",
    "colab_type": "text",
    "deepnote_cell_type": "markdown",
    "id": "gfcK2R9WgnPe"
   },
   "source": [
    "We will also abstract all the Drake workings into a wrapper `BuildAndSimulate`, which constructs and connects the following systems:\n",
    "- `HardwareStation`\n",
    "- `DifferentialIKSystem`\n",
    "- `ConstantVectorSource` for commanding desired velocity to controller.\n",
    "- `Integrator` to go from `iiwa.velocity` output of controller to `iiwa.position` input of `HardwareStation`.\n",
    "\n",
    "The purpose of this function is to swap out different implementations of spatial-to-joint velocity mappings on the fly and simulate!\n"
   ]
  },
  {
   "cell_type": "code",
   "execution_count": 3,
   "metadata": {
    "cell_id": "8a9c94855a6448c091897b1a2b9407f5",
    "colab": {},
    "colab_type": "code",
    "deepnote_cell_type": "code",
    "id": "F24X_misbTFj"
   },
   "outputs": [],
   "source": [
    "class DifferentialIKSystem(LeafSystem):\n",
    "    \"\"\"Wrapper system for Differential IK.\n",
    "    @param plant MultibodyPlant of the simulated plant.\n",
    "    @param diffik_fun function object that handles diffik. Must have the signature\n",
    "           diffik_fun(J_G, V_G_desired, q_now, v_now, X_now)\n",
    "    \"\"\"\n",
    "\n",
    "    def __init__(self, plant, diffik_fun):\n",
    "        LeafSystem.__init__(self)\n",
    "        self._plant = plant\n",
    "        self._plant_context = plant.CreateDefaultContext()\n",
    "        self._iiwa = plant.GetModelInstanceByName(\"iiwa\")\n",
    "        self._G = plant.GetBodyByName(\"body\").body_frame()\n",
    "        self._W = plant.world_frame()\n",
    "        self._diffik_fun = diffik_fun\n",
    "\n",
    "        self.DeclareVectorInputPort(\"spatial_velocity\", 6)\n",
    "        self.DeclareVectorInputPort(\"iiwa.position_measured\", 7)\n",
    "        self.DeclareVectorInputPort(\"iiwa.velocity_measured\", 7)\n",
    "        self.DeclareVectorOutputPort(\"iiwa_velocity_command\", 7, self.CalcOutput)\n",
    "\n",
    "    def CalcOutput(self, context, output):\n",
    "        V_G_desired = self.get_input_port(0).Eval(context)\n",
    "        q_now = self.get_input_port(1).Eval(context)\n",
    "        v_now = self.get_input_port(2).Eval(context)\n",
    "\n",
    "        self._plant.SetPositions(self._plant_context, self._iiwa, q_now)\n",
    "        J_G = self._plant.CalcJacobianSpatialVelocity(\n",
    "            self._plant_context,\n",
    "            JacobianWrtVariable.kQDot,\n",
    "            self._G,\n",
    "            [0, 0, 0],\n",
    "            self._W,\n",
    "            self._W,\n",
    "        )\n",
    "        J_G = J_G[:, 0:7]  # Ignore gripper terms\n",
    "\n",
    "        X_now = self._plant.CalcRelativeTransform(self._plant_context, self._W, self._G)\n",
    "        p_now = X_now.translation()\n",
    "\n",
    "        v = self._diffik_fun(J_G, V_G_desired, q_now, v_now, p_now)\n",
    "        output.SetFromVector(v)\n",
    "\n",
    "\n",
    "def BuildAndSimulate(diffik_fun, V_d, duration, plot_system_diagram=False):\n",
    "    builder = DiagramBuilder()\n",
    "\n",
    "    scenario_data = \"\"\"\n",
    "    directives:\n",
    "    - add_directives:\n",
    "        file: package://manipulation/clutter.dmd.yaml\n",
    "    model_drivers:\n",
    "        iiwa: !IiwaDriver\n",
    "            hand_model_name: wsg\n",
    "        wsg: !SchunkWsgDriver {}\n",
    "    \"\"\"\n",
    "    scenario = LoadScenario(data=scenario_data)\n",
    "    station = builder.AddSystem(MakeHardwareStation(scenario, meshcat=meshcat))\n",
    "    plant = station.GetSubsystemByName(\"plant\")\n",
    "\n",
    "    controller = builder.AddSystem(DifferentialIKSystem(plant, diffik_fun))\n",
    "    integrator = builder.AddSystem(Integrator(7))\n",
    "    desired_vel = builder.AddSystem(ConstantVectorSource(V_d))\n",
    "\n",
    "    builder.Connect(controller.get_output_port(), integrator.get_input_port())\n",
    "    builder.Connect(integrator.get_output_port(), station.GetInputPort(\"iiwa.position\"))\n",
    "    builder.Connect(\n",
    "        station.GetOutputPort(\"iiwa.position_measured\"),\n",
    "        controller.get_input_port(1),\n",
    "    )\n",
    "    builder.Connect(\n",
    "        station.GetOutputPort(\"iiwa.velocity_estimated\"),\n",
    "        controller.get_input_port(2),\n",
    "    )\n",
    "    builder.Connect(desired_vel.get_output_port(), controller.get_input_port(0))\n",
    "\n",
    "    diagram = builder.Build()\n",
    "    diagram.set_name(\"diagram\")\n",
    "    if running_as_notebook and plot_system_diagram:\n",
    "        RenderDiagram(diagram)\n",
    "\n",
    "    simulator = Simulator(diagram)\n",
    "    context = simulator.get_mutable_context()\n",
    "    station_context = station.GetMyContextFromRoot(context)\n",
    "    station.GetInputPort(\"iiwa.torque\").FixValue(station_context, np.zeros((7, 1)))\n",
    "    station.GetInputPort(\"wsg.position\").FixValue(station_context, [0.1])\n",
    "\n",
    "    integrator.set_integral_value(\n",
    "        integrator.GetMyMutableContextFromRoot(context),\n",
    "        plant.GetPositions(\n",
    "            plant.GetMyContextFromRoot(context),\n",
    "            plant.GetModelInstanceByName(\"iiwa\"),\n",
    "        ),\n",
    "    )\n",
    "\n",
    "    meshcat.StartRecording()\n",
    "    simulator.AdvanceTo(duration)\n",
    "    meshcat.PublishRecording()"
   ]
  },
  {
   "cell_type": "markdown",
   "metadata": {
    "cell_id": "793b391b8d394500858b29604ce458ff",
    "colab_type": "text",
    "deepnote_cell_type": "markdown",
    "id": "1bRwOKRrrdQw"
   },
   "source": [
    "Let's just make sure we've got all the systems and connections right by hooking this up with out Baseclass controller `DifferentialIKBaseSystem` that outputs zero velocities, and looking at the diagram.\n",
    "\n",
    "For differential IK, we'll just set it up with a function that always outputs zeroes for now."
   ]
  },
  {
   "cell_type": "code",
   "execution_count": 4,
   "metadata": {
    "cell_id": "f863f731d4fd4ee99fe1b29b540d7ab4",
    "colab": {},
    "colab_type": "code",
    "deepnote_cell_type": "code",
    "id": "Bd5544l6rhVI"
   },
   "outputs": [
    {
     "ename": "RuntimeError",
     "evalue": "/home/nep/manipulation/manipulation/models/hydro/schunk_wsg_50_with_tip.sdf:5: error: URI 'package://drake_models/wsg_50_description/meshes/wsg_body.obj' resolved to '/home/nep/.cache/drake/package_map/bacc01fba8f324b8dce1d15ae98083fa7e61463d0d278df46f198c2e3ae14abd-d542c1cfb057a27398ab0b818609a2edb14ec9c621b58dc2d78af6daa96f8056/wsg_50_description/meshes/wsg_body.obj' which does not exist.",
     "output_type": "error",
     "traceback": [
      "\u001b[0;31m---------------------------------------------------------------------------\u001b[0m",
      "\u001b[0;31mRuntimeError\u001b[0m                              Traceback (most recent call last)",
      "Cell \u001b[0;32mIn[4], line 6\u001b[0m\n\u001b[1;32m      2\u001b[0m     \u001b[38;5;28;01mreturn\u001b[39;00m np\u001b[38;5;241m.\u001b[39mzeros(\u001b[38;5;241m7\u001b[39m)\n\u001b[1;32m      5\u001b[0m V_d \u001b[38;5;241m=\u001b[39m np\u001b[38;5;241m.\u001b[39mzeros(\u001b[38;5;241m6\u001b[39m)\n\u001b[0;32m----> 6\u001b[0m \u001b[43mBuildAndSimulate\u001b[49m\u001b[43m(\u001b[49m\n\u001b[1;32m      7\u001b[0m \u001b[43m    \u001b[49m\u001b[43mDiffIK_Zero\u001b[49m\u001b[43m,\u001b[49m\n\u001b[1;32m      8\u001b[0m \u001b[43m    \u001b[49m\u001b[43mV_d\u001b[49m\u001b[43m,\u001b[49m\n\u001b[1;32m      9\u001b[0m \u001b[43m    \u001b[49m\u001b[43mduration\u001b[49m\u001b[38;5;241;43m=\u001b[39;49m\u001b[38;5;241;43m5.0\u001b[39;49m\u001b[43m \u001b[49m\u001b[38;5;28;43;01mif\u001b[39;49;00m\u001b[43m \u001b[49m\u001b[43mrunning_as_notebook\u001b[49m\u001b[43m \u001b[49m\u001b[38;5;28;43;01melse\u001b[39;49;00m\u001b[43m \u001b[49m\u001b[38;5;241;43m0.1\u001b[39;49m\u001b[43m,\u001b[49m\n\u001b[1;32m     10\u001b[0m \u001b[43m    \u001b[49m\u001b[43mplot_system_diagram\u001b[49m\u001b[38;5;241;43m=\u001b[39;49m\u001b[38;5;28;43;01mTrue\u001b[39;49;00m\u001b[43m,\u001b[49m\n\u001b[1;32m     11\u001b[0m \u001b[43m)\u001b[49m\n",
      "Cell \u001b[0;32mIn[3], line 58\u001b[0m, in \u001b[0;36mBuildAndSimulate\u001b[0;34m(diffik_fun, V_d, duration, plot_system_diagram)\u001b[0m\n\u001b[1;32m     48\u001b[0m scenario_data \u001b[38;5;241m=\u001b[39m \u001b[38;5;124m\"\"\"\u001b[39m\n\u001b[1;32m     49\u001b[0m \u001b[38;5;124mdirectives:\u001b[39m\n\u001b[1;32m     50\u001b[0m \u001b[38;5;124m- add_directives:\u001b[39m\n\u001b[0;32m   (...)\u001b[0m\n\u001b[1;32m     55\u001b[0m \u001b[38;5;124m    wsg: !SchunkWsgDriver \u001b[39m\u001b[38;5;132;01m{}\u001b[39;00m\n\u001b[1;32m     56\u001b[0m \u001b[38;5;124m\u001b[39m\u001b[38;5;124m\"\"\"\u001b[39m\n\u001b[1;32m     57\u001b[0m scenario \u001b[38;5;241m=\u001b[39m LoadScenario(data\u001b[38;5;241m=\u001b[39mscenario_data)\n\u001b[0;32m---> 58\u001b[0m station \u001b[38;5;241m=\u001b[39m builder\u001b[38;5;241m.\u001b[39mAddSystem(\u001b[43mMakeHardwareStation\u001b[49m\u001b[43m(\u001b[49m\u001b[43mscenario\u001b[49m\u001b[43m,\u001b[49m\u001b[43m \u001b[49m\u001b[43mmeshcat\u001b[49m\u001b[38;5;241;43m=\u001b[39;49m\u001b[43mmeshcat\u001b[49m\u001b[43m)\u001b[49m)\n\u001b[1;32m     59\u001b[0m plant \u001b[38;5;241m=\u001b[39m station\u001b[38;5;241m.\u001b[39mGetSubsystemByName(\u001b[38;5;124m\"\u001b[39m\u001b[38;5;124mplant\u001b[39m\u001b[38;5;124m\"\u001b[39m)\n\u001b[1;32m     61\u001b[0m controller \u001b[38;5;241m=\u001b[39m builder\u001b[38;5;241m.\u001b[39mAddSystem(DifferentialIKSystem(plant, diffik_fun))\n",
      "File \u001b[0;32m~/manipulation/manipulation/station.py:932\u001b[0m, in \u001b[0;36mMakeHardwareStation\u001b[0;34m(scenario, meshcat, package_xmls, hardware, parser_preload_callback, parser_prefinalize_callback, prebuild_callback)\u001b[0m\n\u001b[1;32m    929\u001b[0m     parser_preload_callback(parser)\n\u001b[1;32m    931\u001b[0m \u001b[38;5;66;03m# Add model directives.\u001b[39;00m\n\u001b[0;32m--> 932\u001b[0m added_models \u001b[38;5;241m=\u001b[39m \u001b[43mProcessModelDirectives\u001b[49m\u001b[43m(\u001b[49m\n\u001b[1;32m    933\u001b[0m \u001b[43m    \u001b[49m\u001b[43mdirectives\u001b[49m\u001b[38;5;241;43m=\u001b[39;49m\u001b[43mModelDirectives\u001b[49m\u001b[43m(\u001b[49m\u001b[43mdirectives\u001b[49m\u001b[38;5;241;43m=\u001b[39;49m\u001b[43mscenario\u001b[49m\u001b[38;5;241;43m.\u001b[39;49m\u001b[43mdirectives\u001b[49m\u001b[43m)\u001b[49m\u001b[43m,\u001b[49m\n\u001b[1;32m    934\u001b[0m \u001b[43m    \u001b[49m\u001b[43mparser\u001b[49m\u001b[38;5;241;43m=\u001b[39;49m\u001b[43mparser\u001b[49m\u001b[43m,\u001b[49m\n\u001b[1;32m    935\u001b[0m \u001b[43m\u001b[49m\u001b[43m)\u001b[49m\n\u001b[1;32m    937\u001b[0m \u001b[38;5;28;01mif\u001b[39;00m parser_prefinalize_callback:\n\u001b[1;32m    938\u001b[0m     parser_prefinalize_callback(parser)\n",
      "\u001b[0;31mRuntimeError\u001b[0m: /home/nep/manipulation/manipulation/models/hydro/schunk_wsg_50_with_tip.sdf:5: error: URI 'package://drake_models/wsg_50_description/meshes/wsg_body.obj' resolved to '/home/nep/.cache/drake/package_map/bacc01fba8f324b8dce1d15ae98083fa7e61463d0d278df46f198c2e3ae14abd-d542c1cfb057a27398ab0b818609a2edb14ec9c621b58dc2d78af6daa96f8056/wsg_50_description/meshes/wsg_body.obj' which does not exist."
     ]
    }
   ],
   "source": [
    "def DiffIK_Zero(J_G, V_G_desired, q_now, v_now, p_now):\n",
    "    return np.zeros(7)\n",
    "\n",
    "\n",
    "V_d = np.zeros(6)\n",
    "BuildAndSimulate(\n",
    "    DiffIK_Zero,\n",
    "    V_d,\n",
    "    duration=5.0 if running_as_notebook else 0.1,\n",
    "    plot_system_diagram=True,\n",
    ")"
   ]
  },
  {
   "cell_type": "markdown",
   "metadata": {
    "cell_id": "772b94878e3d4b4388d87fb1f9f805f5",
    "colab_type": "text",
    "deepnote_cell_type": "markdown",
    "id": "8we5cXEJs-jg"
   },
   "source": [
    "You should see that the manipulator just stays still since our base class keeps sending zero-velocity."
   ]
  },
  {
   "cell_type": "markdown",
   "metadata": {
    "cell_id": "4af5341411db40b3b60e9f73fae1d5a1",
    "colab_type": "text",
    "deepnote_cell_type": "markdown",
    "id": "Y90FlVastwCq"
   },
   "source": [
    "## Differential IK through Inverse Jacobian\n",
    "\n",
    "That was some setup to get through the basic tools, but now we're onto the main part of the set! In class, we've seen that in order to map a desired spatial velocity $V^G$ to desired joint velocities, we can use the relation\n",
    "\n",
    "$$V^G = J^G(q) v$$\n",
    "\n",
    "and \"invert\" this with a Moore-Penrose pseudoinverse to achieve differential kinematics:\n",
    "\n",
    "$$v = [J^G(q)]^{+} V^{G}$$\n",
    "\n",
    "We can implement this controller fairly easily:"
   ]
  },
  {
   "cell_type": "code",
   "execution_count": null,
   "metadata": {
    "cell_id": "7761182024744b76b95aec195fab9e2a",
    "colab": {},
    "colab_type": "code",
    "deepnote_cell_type": "code",
    "id": "q6Ko4z4UZ-ZZ"
   },
   "outputs": [],
   "source": [
    "def DiffIKPseudoInverse(J_G, V_G_desired, q_now, v_now, p_now):\n",
    "    v = np.linalg.pinv(J_G).dot(V_G_desired)\n",
    "    return v"
   ]
  },
  {
   "cell_type": "markdown",
   "metadata": {
    "cell_id": "a3b53539917548c2ab25a8ce7110d32c",
    "colab_type": "text",
    "deepnote_cell_type": "markdown",
    "id": "uT0E0rrwwVfV"
   },
   "source": [
    "Let's simulate this system forward. Run the cell below. If Meshcat takes a long time to load, then you can always play back / scroll through the animation using the controls panel in Meshcat."
   ]
  },
  {
   "cell_type": "code",
   "execution_count": null,
   "metadata": {
    "cell_id": "b93989cef7d445a2a424c156d964e304",
    "colab": {},
    "colab_type": "code",
    "deepnote_cell_type": "code",
    "id": "6aVPMECDxmwm"
   },
   "outputs": [],
   "source": [
    "# Corresponds to [wx, wy, wz, vx, vy, vz]\n",
    "V_d = np.array([0.0, 0.0, 0.0, 0.1, 0.0, 0])\n",
    "BuildAndSimulate(DiffIKPseudoInverse, V_d, duration=7.0 if running_as_notebook else 0.1)"
   ]
  },
  {
   "cell_type": "markdown",
   "metadata": {
    "cell_id": "1df33a5ed19047e8be9ecde3fd695f56",
    "colab_type": "text",
    "deepnote_cell_type": "markdown",
    "id": "73VXtApc0fCO"
   },
   "source": [
    "Wow - what just happened? There are several things you should have noticed.\n",
    "- The robot did its job by going 0.1m/s in the x-direction (for anyone not familiar, there is a 'world-frame' axis colored by RGB. The usual convention is that RGB corresponds respectively to XYZ axii. Note that the robot is moving in the direction of the red axis as expected)\n",
    "- When the robot reached the end of its workspace, it freaked out, jerking unexpectedly.\n",
    "\n",
    "Imagine thinking the PseudoInverse method was a good idea, implementing the controller, then running this in a real robot - something might have gone badly wrong!"
   ]
  },
  {
   "cell_type": "markdown",
   "metadata": {
    "cell_id": "63c97f8a0b0d40889dcf919b7efa9e60",
    "colab_type": "text",
    "deepnote_cell_type": "markdown",
    "id": "q7r1Fa3B2AWk"
   },
   "source": [
    "## Pseudoinverse as Optimization\n",
    "\n",
    "Even though the method got unreliable at the limits of the kinematic workspace (i.e. under kinematic singularities), it worked reasonably well. How do we keep the benefits of the original method while improving behavior near singularities?\n",
    "\n",
    "One idea presented in class is to stick to a certain **joint velocity limit**. This will at least prevent the manipulator from doing something crazy.\n",
    "\n",
    "**Now it's your turn to code!**\n",
    "\n",
    "In the language of optimization, the problem we are trying to solve will look like:\n",
    "\n",
    "$$\\begin{aligned} \\min_v \\quad & \\|\\mathbf{J}(q)v - V_d\\|^2_2 \\\\ \\textrm{s.t.} \\quad &  |v|\\leq v_{max} \\end{aligned}$$\n",
    "\n",
    "Below, you must transcribe and solve this optimization problem through `MathematicalProgram`.\n",
    "\n",
    "NOTE: The absolute value is taken element wise, so the last constraint is really saying \"for all $i$, make sure none of the elements of $|v[i]|$ exceed $v_{max}[i]$. Such constraints are also called Bounding Box constraints.\n",
    "\n",
    "HINT: We can't directly enter absolute values as a constraint in `MathematicalProgram`, but we can break down the absolute value constraint into two separate constraints.\n",
    "\n",
    "NOTE: If you're not familiar with how to write down mathematical program, make sure you do the `intro_to_qp` exercise on the textbook first. If you're still stuck, feel free to get more practice from [this notebook tutorial](https://deepnote.com/workspace/Drake-0b3b2c53-a7ad-441b-80f8-bf8350752305/project/Tutorials-2b4fc509-aef2-417d-a40d-6071dfed9199/notebook/mathematical_program-4c4f4de7d5d3452daacf45c20b315d31), or look at the [`pydrake` documentation on `MathematicalProgram`](https://drake.mit.edu/pydrake/pydrake.solvers.html#pydrake.solvers.MathematicalProgram)."
   ]
  },
  {
   "cell_type": "code",
   "execution_count": null,
   "metadata": {
    "cell_id": "5a996d60ebb54506b6d2dde6d9fe958a",
    "colab": {},
    "colab_type": "code",
    "deepnote_cell_type": "code",
    "id": "4YKMRp3gDY0R"
   },
   "outputs": [],
   "source": [
    "def DiffIKQP(J_G, V_G_desired, q_now, v_now, p_now):\n",
    "    prog = MathematicalProgram()\n",
    "    v = prog.NewContinuousVariables(7, \"v\")\n",
    "    v_max = 3.0  # do not modify\n",
    "\n",
    "    # Add cost and constraints to prog here.\n",
    "\n",
    "    solver = SnoptSolver()\n",
    "    result = solver.Solve(prog)\n",
    "\n",
    "    if not (result.is_success()):\n",
    "        raise ValueError(\"Could not find the optimal solution.\")\n",
    "\n",
    "    v_solution = result.GetSolution(v)\n",
    "\n",
    "    return v_solution"
   ]
  },
  {
   "cell_type": "markdown",
   "metadata": {
    "cell_id": "a72d59acd98d4b1da1ee70136b4d85fd",
    "colab_type": "text",
    "deepnote_cell_type": "markdown",
    "id": "QTplFYdQ-Gps"
   },
   "source": [
    "When you're ready to test out your new method, you can run the simulator to see what happens. Similar to last time, wait until everything loads on Meshcat and run the second cell below to simulate forward."
   ]
  },
  {
   "cell_type": "code",
   "execution_count": null,
   "metadata": {
    "cell_id": "9be4c915ab0740e9b70dc3fd04bc52f1",
    "colab": {},
    "colab_type": "code",
    "deepnote_cell_type": "code",
    "id": "UD-ZLidi-Pul"
   },
   "outputs": [],
   "source": [
    "V_d = np.array(\n",
    "    [0.0, 0.0, 0.0, 0.1, 0.0, 0.0]\n",
    ")  # Feel free to play around with different V_desired\n",
    "simulator = BuildAndSimulate(\n",
    "    DiffIKQP, V_d, duration=7.0 if running_as_notebook else 0.1\n",
    ")"
   ]
  },
  {
   "cell_type": "markdown",
   "metadata": {
    "cell_id": "9b58c71a65ea49a6b783bb9909655061",
    "colab_type": "text",
    "deepnote_cell_type": "markdown",
    "id": "ZggOGhgPXFLj"
   },
   "source": [
    "When you have implemented things correctly, you should see we behave much better near singularities now, since we're constraining joint velocities. This is nice - even if the Jacobian becomes singular, we can guard against sudden jerky movements because we've put limits."
   ]
  },
  {
   "cell_type": "markdown",
   "metadata": {
    "cell_id": "5f3a3847321c47a784159a9230d8bba6",
    "colab_type": "text",
    "deepnote_cell_type": "markdown",
    "id": "ktjkAZmd5M4h"
   },
   "source": [
    "## An Virtual Wall in End-Effector Space\n",
    "\n",
    "In class, we saw that in addition to doing joint velocity constraints, we can also put constraints on **joint positions** and **accelerations** through first-order Euler finite difference. Given $v_{now}$ and $q_{now}$, we can find $v$ that satisfies the following program:\n",
    "\n",
    "$$\\begin{aligned} \\min_v \\quad & \\|\\mathbf{J}(q_{now})v - V_d\\|^2_2 \\\\ \\textrm{s.t.} \\quad &  |v|\\leq v_{max} \\\\  \\quad & q_{min} \\leq q_{now} + h v \\leq q_{max} \\\\ \\quad & a_{min} \\leq (v-v_{now})/h \\leq a_{max}\\end{aligned}$$\n",
    "\n",
    "All of these constraints are formulated in the joint-space. But could we also end up with a linear constraint if we try to impose a constraint in the end-effector space?\n",
    "\n",
    "**Now it's your time to code!**\n",
    "\n",
    "You must program a robot in a factory, but you would like to implement a virtual wall that the robot is not allowed to put its hand in, since you have limited space and a human will be working there, or there are some obstacles there.\n",
    "\n",
    "To do this, you decide to write an optimization-based controller that minimizes $\\|\\mathbf{J}(q_{now})v - V_d\\|_2^2$ and has two constraints:\n",
    "1. Joint velocity constraint $|v|\\leq v_{max}$\n",
    "2. A constraint that the **position** of the end-effector must be inside the following box:\n",
    "  - `lower_bound = [-0.3, -1.0, -1.0]`\n",
    "  - `upper_bound = [0.3, 1.0, 1.0]`\n",
    "\n",
    "You can access the current position of the robot by using `p_now` (found by running forward kinematics).\n",
    "\n",
    "HINT: We can similarly use first-order approximations to query what the next position will be given the current position and velocities in the end-effector space."
   ]
  },
  {
   "cell_type": "code",
   "execution_count": null,
   "metadata": {
    "cell_id": "6ba41770b28849aab183c20c14c5b353",
    "deepnote_cell_type": "code"
   },
   "outputs": [],
   "source": [
    "# functions for visualizing the box that the end-effector must stay inside\n",
    "\n",
    "\n",
    "def show_end_effector_box():\n",
    "    vspace = Box(0.6, 2.0, 1.0)\n",
    "    meshcat.SetObject(\"/end_effector_box\", vspace, Rgba(0.1, 0.5, 0.1, 0.2))\n",
    "    meshcat.SetTransform(\"/end_effector_box\", RigidTransform([0.0, 0.0, 0.5]))\n",
    "\n",
    "\n",
    "def hide_end_effector_box():\n",
    "    meshcat.Delete(\"/end_effector_box\")"
   ]
  },
  {
   "cell_type": "code",
   "execution_count": null,
   "metadata": {
    "cell_id": "a7dbd7ca21f8406eb702b41d14dc2e60",
    "colab": {},
    "colab_type": "code",
    "deepnote_cell_type": "code",
    "id": "J3Eel-kEddGU"
   },
   "outputs": [],
   "source": [
    "def DiffIKQP_Wall(J_G, V_G_desired, q_now, v_now, p_now):\n",
    "    prog = MathematicalProgram()\n",
    "    v = prog.NewContinuousVariables(7, \"joint_velocities\")\n",
    "    v_max = 3.0  # do not modify\n",
    "    h = 4e-3  # do not modify\n",
    "    lower_bound = np.array([-0.3, -1.0, -1.0])  # do not modify\n",
    "    upper_bound = np.array([0.3, 1.0, 1.0])  # do not modify\n",
    "\n",
    "    # Fill in your code here.\n",
    "\n",
    "    solver = SnoptSolver()\n",
    "    result = solver.Solve(prog)\n",
    "\n",
    "    if not (result.is_success()):\n",
    "        raise ValueError(\"Could not find the optimal solution.\")\n",
    "\n",
    "    v_solution = result.GetSolution(v)\n",
    "    return v_solution"
   ]
  },
  {
   "cell_type": "code",
   "execution_count": null,
   "metadata": {
    "cell_id": "aaf904aa79c3441e99de3fedc2505953",
    "colab": {},
    "colab_type": "code",
    "deepnote_cell_type": "code",
    "id": "yl128hSMdGJW"
   },
   "outputs": [],
   "source": [
    "show_end_effector_box()\n",
    "V_d = np.array([0.0, 0.0, 0.0, 0.1, 0.05, 0])\n",
    "simulator = BuildAndSimulate(\n",
    "    DiffIKQP_Wall, V_d, duration=7.0 if running_as_notebook else 0.1\n",
    ")"
   ]
  },
  {
   "cell_type": "code",
   "execution_count": null,
   "metadata": {
    "cell_id": "544ccf70a1314edfb53f0ab87e7141d9",
    "deepnote_cell_type": "code"
   },
   "outputs": [],
   "source": [
    "# hide_end_effector_box() # uncomment if you want to hide the box visualization."
   ]
  },
  {
   "cell_type": "markdown",
   "metadata": {
    "cell_id": "eb06228466504ba7b2d75562965cc93f",
    "colab_type": "text",
    "deepnote_cell_type": "markdown",
    "id": "Gl0rgvvV6DjW"
   },
   "source": [
    "If you implemented this correctly, the end effector will stay within the visualized box, almost like the robot has a wall that it cannot cross! Note that constraining the position of the end effector is not the same as constraining the *entire* end-effector to stay within the box- if part of it is outside, that is okay! (It is also a worthwhile exercise to think about why it is so)."
   ]
  },
  {
   "cell_type": "markdown",
   "metadata": {
    "cell_id": "dadeff4c43914f52b8f8249ded5e123a",
    "colab_type": "text",
    "deepnote_cell_type": "markdown",
    "id": "zPmeRLtJk410"
   },
   "source": [
    "## How will this notebook be Graded?\n",
    "\n",
    "If you are enrolled in the class, this notebook will be graded using [Gradescope](www.gradescope.com). You should have gotten the enrollement code on our announcement in Piazza.\n",
    "\n",
    "For submission of this assignment, you must do as follows:.\n",
    "- Download and submit the notebook `differential_ik_optimization.ipynb` to Gradescope's notebook submission section, along with your notebook for the other problems.\n",
    "\n",
    "We will evaluate the local functions in the notebook to see if the function behaves as we have expected. For this exercise, the rubric is as follows:\n",
    "- [4 pts] `DiffIKQP` must be implemented correctly.\n",
    "- [6 pts] `DiffIKQP_Wall` must be implemented correctly."
   ]
  },
  {
   "cell_type": "markdown",
   "metadata": {
    "cell_id": "4a6e7f0bd9b4436abc495af3d69c8c32",
    "colab_type": "text",
    "deepnote_cell_type": "markdown",
    "id": "RiIaH2YlTcmc"
   },
   "source": [
    "Below is our autograder where you can check the correctness of all your implementations."
   ]
  },
  {
   "cell_type": "code",
   "execution_count": null,
   "metadata": {
    "cell_id": "9754c90c0dc8462db4d6c16fd9bed62a",
    "colab": {},
    "colab_type": "code",
    "deepnote_cell_type": "code",
    "id": "ZXZateGeTlKX"
   },
   "outputs": [],
   "source": [
    "Grader.grade_output([TestDifferentialIK], [locals()], \"results.json\")\n",
    "Grader.print_test_results(\"results.json\")"
   ]
  },
  {
   "cell_type": "markdown",
   "metadata": {
    "created_in_deepnote_cell": true,
    "deepnote_cell_type": "markdown"
   },
   "source": [
    "<a style='text-decoration:none;line-height:16px;display:flex;color:#5B5B62;padding:10px;justify-content:end;' href='https://deepnote.com?utm_source=created-in-deepnote-cell&projectId=3155e248-ad1e-4955-9626-599d4958faed' target=\"_blank\">\n",
    "<img alt='Created in deepnote.com' style='display:inline;max-height:16px;margin:0px;margin-right:7.5px;' src='data:image/svg+xml;base64,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' > </img>\n",
    "Created in <span style='font-weight:600;margin-left:4px;'>Deepnote</span></a>"
   ]
  }
 ],
 "metadata": {
  "deepnote_notebook_id": "f63313e3e737450b98c6ba654ea9f469",
  "kernelspec": {
   "display_name": "Python 3",
   "language": "python",
   "name": "python3"
  },
  "language_info": {
   "codemirror_mode": {
    "name": "ipython",
    "version": 3
   },
   "file_extension": ".py",
   "mimetype": "text/x-python",
   "name": "python",
   "nbconvert_exporter": "python",
   "pygments_lexer": "ipython3",
   "version": "3.10.12"
  }
 },
 "nbformat": 4,
 "nbformat_minor": 0
}
