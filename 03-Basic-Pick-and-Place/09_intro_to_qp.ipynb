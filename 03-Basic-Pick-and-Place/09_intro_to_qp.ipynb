{
 "cells": [
  {
   "cell_type": "markdown",
   "metadata": {
    "cell_id": "c2617a454f894752acf37404a05c4a40",
    "colab_type": "text",
    "deepnote_cell_type": "markdown",
    "id": "ERSps3-ac4Po"
   },
   "source": [
    "# Introduction to QP"
   ]
  },
  {
   "cell_type": "code",
   "execution_count": 1,
   "metadata": {
    "cell_id": "abfe0e24d9674adda3ed877d6e2785d3",
    "colab": {},
    "colab_type": "code",
    "deepnote_cell_type": "code",
    "id": "tFMmTfbHWQfh"
   },
   "outputs": [],
   "source": [
    "# python libraries\n",
    "import numpy as np\n",
    "from pydrake.all import MathematicalProgram, Solve, eq, ge, le"
   ]
  },
  {
   "cell_type": "markdown",
   "metadata": {
    "cell_id": "93c35f2554404ee284ddfbb16f301ce4",
    "colab_type": "text",
    "deepnote_cell_type": "markdown",
    "id": "ze9gQeOVOJUA"
   },
   "source": [
    "# Introduction to MathematicalProgram \n",
    "\n",
    "The purpose of this exercise is to get you familiar with the basics of what an instance of an optimization problem is, as well as how to solve it. \n",
    "\n",
    "An optimization problem is usually written as \n",
    "\n",
    "$$\\begin{aligned} \\min_x \\quad & f(x) \\\\ \\textrm{s.t.} \\quad & g(x)\\leq 0,\\\\ \\quad &  h(x)=0 \\end{aligned}$$\n",
    "\n",
    "We call $x$ the **decision variable**, $f(x)$ the **cost function**, $g(x)\\leq 0$ an **inequality constraint**, and $h(x)=0$ an **equality constraint**. We usually denote the optimal solution by $x^*$. Most of the times, the constraints are hard-constraints, meaning that they must be fulfilled by the optimal solution. \n",
    "\n",
    "Drake offers a very good interface to many solvers using `MathematicalProgram`. Let's try to solve a simple problem using `MathematicalProgram`: \n",
    "\n",
    "$$\\begin{aligned} \\min_x \\quad & \\frac{1}{2}x^2 \\\\ \\textrm{s.t.} \\quad & x\\geq 3 \\end{aligned}$$\n",
    "\n",
    "Before we start coding, what do you expect the answer to be? You should persuade yourself that the optimal solution is $x^*=3$, since that is value at which minimum cost is achieved without violating the constraint.\n",
    "\n"
   ]
  },
  {
   "cell_type": "code",
   "execution_count": 2,
   "metadata": {
    "cell_id": "0871b8ffd2ce445ca740294b0fba3465",
    "colab": {},
    "colab_type": "code",
    "deepnote_cell_type": "code",
    "id": "Khi7GeVNcwtU"
   },
   "outputs": [
    {
     "name": "stdout",
     "output_type": "stream",
     "text": [
      "Solution: [3.]\n"
     ]
    }
   ],
   "source": [
    "\"\"\"\n",
    "Steps to solve a optimization problem using Drake's MathematicalProgram\n",
    "\"\"\"\n",
    "\n",
    "# 1. Define an instance of MathematicalProgram\n",
    "prog = MathematicalProgram()\n",
    "\n",
    "# 2. Add decision varaibles\n",
    "x = prog.NewContinuousVariables(1)\n",
    "\n",
    "# 3. Add Cost function\n",
    "prog.AddCost(x.dot(x))\n",
    "\n",
    "# 4. Add Constraints\n",
    "prog.AddConstraint(x[0] >= 3)\n",
    "\n",
    "# 5. Solve the problem\n",
    "result = Solve(prog)\n",
    "\n",
    "# 6. Get the solution\n",
    "if result.is_success():\n",
    "    print(\"Solution: \" + str(result.GetSolution()))"
   ]
  },
  {
   "cell_type": "markdown",
   "metadata": {
    "cell_id": "e31a6da6bc904d53bb021166f2624638",
    "colab_type": "text",
    "deepnote_cell_type": "markdown",
    "id": "HvEI7697UUZC"
   },
   "source": [
    "You should have seen that we were successful in getting the expected solution of $x^*=3$. \n",
    "\n",
    "A particular class of problems that we want to focus on this problem are [Quadratic Programs (QP)](https://en.wikipedia.org/wiki/Quadratic_programming), which can be solved very efficiently in practice (even on the order of kHz).\n",
    "\n",
    "The general formulation of these problems are defined as follows. \n",
    "\n",
    "$$\\begin{aligned} \\min_x \\quad & \\frac{1}{2}x^T\\mathbf{Q}x + c^Tx \\\\ \\textrm{s.t.} \\quad & \\mathbf{A}x\\leq b,\\\\ \\quad &  \\mathbf{A}'x=b' \\end{aligned}$$\n",
    "\n",
    "where $\\mathbf{Q}$ is a positive-definite, symmetric matrix. Note that the cost is a quadratic function of the decision variables, while the constraints are all linear. This is what defines a convex QP. \n",
    "\n",
    "Let's practice solving a simple QP: \n",
    "\n",
    "$$\\begin{aligned} \\min_{x_0,x_1,x_2} \\quad & x_0^2 + x_1^2 + x_2^2 \\\\ \\textrm{s.t.} \\quad & \\begin{pmatrix} 2 & 3 & 1 \\\\ 5 & 1 & 0 \\end{pmatrix} \\begin{pmatrix} x_0 \\\\ x_1 \\\\ x_2 \\end{pmatrix} = \\begin{pmatrix} 1 \\\\ 1 \\end{pmatrix}\\\\  \\quad &  \\begin{pmatrix} x_0 \\\\ x_1 \\\\ x_2 \\end{pmatrix} \\leq \\begin{pmatrix} 2 \\\\ 2 \\\\ 2\\end{pmatrix} \\end{aligned}$$\n",
    "\n",
    "To conveniently write down constraints that are vector-valued, Drake offers `eq,le,ge` for elementwise constraints. It might take some time to learn the syntax of constraints. For a more well-written and in-depth introduction to `MathematicalProgram`, [this notebook tutorial](https://deepnote.com/workspace/Drake-0b3b2c53-a7ad-441b-80f8-bf8350752305/project/Tutorials-2b4fc509-aef2-417d-a40d-6071dfed9199/notebook/mathematical_program-4c4f4de7d5d3452daacf45c20b315d31) is incredibly useful. \n",
    " \n"
   ]
  },
  {
   "cell_type": "code",
   "execution_count": null,
   "metadata": {
    "cell_id": "13cb79ab6bc6486991e762b5f7853748",
    "colab": {},
    "colab_type": "code",
    "deepnote_cell_type": "code",
    "id": "SNvpjgzxVQJC"
   },
   "outputs": [],
   "source": [
    "prog = MathematicalProgram()\n",
    "\n",
    "x = prog.NewContinuousVariables(3)\n",
    "\n",
    "prog.AddCost(x.dot(x))\n",
    "prog.AddConstraint(eq(np.array([[2, 3, 1], [5, 1, 0]]).dot(x), [1, 1]))\n",
    "prog.AddConstraint(le(x, 2 * np.ones(3)))\n",
    "\n",
    "result = Solve(prog)\n",
    "\n",
    "# 6. Get the solution\n",
    "if result.is_success():\n",
    "    print(\"Solution: \" + str(result.GetSolution()))"
   ]
  },
  {
   "cell_type": "markdown",
   "metadata": {
    "cell_id": "4d8666f36e76415690b92fa78ef95582",
    "colab_type": "text",
    "deepnote_cell_type": "markdown",
    "id": "SmYZWSewSwf6"
   },
   "source": [
    "\n",
    "**Now, it's your turn to solve a simple problem!** \n",
    "\n",
    "You must solve the following problem and store the result in a variable named `result_submission`. \n",
    "\n",
    "$$\\begin{aligned} \\min_{x_0,x_1,x_2} \\quad & 2x_0^2 + x_1^2 + 4x_2^2 \\\\ \\textrm{s.t.} \\quad & \\begin{pmatrix} 1 & 2 & 3 \\\\ 2 & 7 & 4 \\end{pmatrix} \\begin{pmatrix} x_0 \\\\ x_1  \\\\ x_2 \\end{pmatrix} = \\begin{pmatrix} 1 \\\\ 1 \\end{pmatrix} \\\\ \\quad &  |x| \\leq \\begin{pmatrix} 0.35 \\\\ 0.35 \\\\ 0.35\\end{pmatrix} \\end{aligned}$$\n",
    "\n",
    "NOTE: The last constraint says that the absolute value of `x[i]` must be less than the value of `b_bb[i]`. You cannot put an absolute value directly as a constraint, so there are two routes that you can take:\n",
    "- Break the constraints down to two constraints that don't involve the absolute value.  \n",
    "- Drake offers [`AddBoundingBoxConstraint`](https://drake.mit.edu/pydrake/pydrake.solvers.html?highlight=addboundingboxconstraint#pydrake.solvers.MathematicalProgram.AddBoundingBoxConstraint) which you may use in your implementation."
   ]
  },
  {
   "cell_type": "code",
   "execution_count": 30,
   "metadata": {
    "cell_id": "6a36d3d53dd8434f93a6626277a74f80",
    "colab": {},
    "colab_type": "code",
    "deepnote_cell_type": "code",
    "id": "qhMB4kc3asCE"
   },
   "outputs": [
    {
     "name": "stdout",
     "output_type": "stream",
     "text": [
      "Decision variables: x(0) x(1) x(2)\n",
      "\n",
      "QuadraticCost (2 * pow(x(0), 2) + pow(x(1), 2) + 4 * pow(x(2), 2))\n",
      "LinearEqualityConstraint\n",
      "(x(0) + 2 * x(1) + 3 * x(2)) == 1\n",
      "(2 * x(0) + 7 * x(1) + 4 * x(2)) == 1\n",
      "BoundingBoxConstraint\n",
      "-0.35 <= x(0) <= 0.35\n",
      "-0.35 <= x(1) <= 0.35\n",
      "-0.35 <= x(2) <= 0.35\n",
      "\n",
      "Solution: [ 0.15343917 -0.1005291   0.34920635]\n"
     ]
    }
   ],
   "source": [
    "prog = MathematicalProgram()\n",
    "\n",
    "# Modify here to get the solution to the above optimization problem.\n",
    "\n",
    "x = prog.NewContinuousVariables(3)\n",
    "\n",
    "Q = np.diag([2, 1, 4])\n",
    "\n",
    "prog.AddCost(x.T @ Q @ x)\n",
    "\n",
    "prog.AddConstraint(eq(np.array([[1, 2, 3], [2, 7, 4]]).dot(x), np.array([1, 1])))\n",
    "\n",
    "prog.AddBoundingBoxConstraint(-0.35, 0.35, x)\n",
    "\n",
    "print(prog)\n",
    "\n",
    "result = Solve(prog)\n",
    "\n",
    "if result.is_success():\n",
    "    solution = result.GetSolution()\n",
    "    print(\"Solution: \" + str(solution))\n",
    "    result_submission = solution\n"
   ]
  },
  {
   "cell_type": "markdown",
   "metadata": {
    "cell_id": "1f48b33daa834bcc82388fd96b38105e",
    "colab_type": "text",
    "deepnote_cell_type": "markdown",
    "id": "zPmeRLtJk410"
   },
   "source": [
    "## How will this notebook be Graded?\n",
    "\n",
    "If you are enrolled in the class, this notebook will be graded using [Gradescope](www.gradescope.com). You should have gotten the enrollement code on our announcement in Piazza. \n",
    "\n",
    "For submission of this assignment, you must do as follows:\n",
    "- Download and submit the notebook `intro_to_qp.ipynb` to Gradescope's notebook submission section, along with your notebook for the other problems.\n",
    "\n",
    "We will evaluate the local functions in the notebook to see if the function behaves as we have expected. For this exercise, the rubric is as follows:\n",
    "- [4 pts] `result_submission` must have the correct answer to the QP. "
   ]
  },
  {
   "cell_type": "markdown",
   "metadata": {
    "cell_id": "cdf2723ab58d4b01bec58b29721c9058",
    "colab_type": "text",
    "deepnote_cell_type": "markdown",
    "id": "t4GLP2woecl5"
   },
   "source": [
    "Below is our autograder where you can check the correctness of your implementations. "
   ]
  },
  {
   "cell_type": "code",
   "execution_count": 29,
   "metadata": {
    "cell_id": "6973203f651b4160adbebc97635bf7c8",
    "colab": {},
    "colab_type": "code",
    "deepnote_cell_type": "code",
    "id": "Ea4zI6Enefhx"
   },
   "outputs": [
    {
     "name": "stdout",
     "output_type": "stream",
     "text": [
      "Total score is 0/4.\n",
      "\n",
      "Score for Test Simple QP problem is 0/4.\n",
      "- Test Failed: 0.0053081845967435015 not less than or equal to 1e-06 : The answer to the QP is not correct.\n",
      "\n"
     ]
    }
   ],
   "source": [
    "from manipulation.exercises.grader import Grader\n",
    "from manipulation.exercises.pick.test_simple_qp import TestSimpleQP\n",
    "\n",
    "Grader.grade_output([TestSimpleQP], [locals()], \"results.json\")\n",
    "Grader.print_test_results(\"results.json\")"
   ]
  },
  {
   "cell_type": "markdown",
   "metadata": {
    "created_in_deepnote_cell": true,
    "deepnote_cell_type": "markdown"
   },
   "source": [
    "<a style='text-decoration:none;line-height:16px;display:flex;color:#5B5B62;padding:10px;justify-content:end;' href='https://deepnote.com?utm_source=created-in-deepnote-cell&projectId=3155e248-ad1e-4955-9626-599d4958faed' target=\"_blank\">\n",
    "<img alt='Created in deepnote.com' style='display:inline;max-height:16px;margin:0px;margin-right:7.5px;' src='data:image/svg+xml;base64,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' > </img>\n",
    "Created in <span style='font-weight:600;margin-left:4px;'>Deepnote</span></a>"
   ]
  },
  {
   "cell_type": "markdown",
   "metadata": {},
   "source": []
  }
 ],
 "metadata": {
  "deepnote_notebook_id": "49f30bec6761406ba0f232aad9ec7524",
  "kernelspec": {
   "display_name": "Python 3",
   "language": "python",
   "name": "python3"
  },
  "language_info": {
   "codemirror_mode": {
    "name": "ipython",
    "version": 3
   },
   "file_extension": ".py",
   "mimetype": "text/x-python",
   "name": "python",
   "nbconvert_exporter": "python",
   "pygments_lexer": "ipython3",
   "version": "3.10.12"
  }
 },
 "nbformat": 4,
 "nbformat_minor": 0
}
