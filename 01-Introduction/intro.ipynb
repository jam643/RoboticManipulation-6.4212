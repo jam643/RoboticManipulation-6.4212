{
 "cells": [
  {
   "cell_type": "markdown",
   "metadata": {
    "cell_id": "d1ae77d55be34c28b4ad52ea058da722",
    "colab_type": "text",
    "deepnote_cell_type": "markdown",
    "id": "TKvYiJgnYExi"
   },
   "source": [
    "This notebook provides examples to go along with the [textbook](http://manipulation.csail.mit.edu/intro.html).  I recommend having both windows open, side-by-side!\n",
    "\n",
    "## Instructions for running this notebook on Deepnote\n",
    "\n",
    "- Log in (the free account will be sufficient for this class)\n",
    "- \"Duplicate\" the document.  Icon is in the top right next to Login.\n",
    "- Read/run the cells one at a time OR use the \"Run notebook\" icon just above this cell\n",
    "- To open the visualizer, click on the url printed just below \"StartMeshcat\" in the second code cell of the notebook.\n",
    "- To teleop, use the keyboard commands printed in the third/fourth code cell outputs OR in meshcat, click \"Open controls\" and use the sliders.\n",
    "- When you're done, press the ESCAPE key OR click the \"Stop Simulation\" button in meshcat."
   ]
  },
  {
   "cell_type": "code",
   "execution_count": 2,
   "metadata": {
    "cell_id": "05af24dac3f64602b6e711f9f908695d",
    "colab": {},
    "colab_type": "code",
    "deepnote_cell_type": "code",
    "execution_context_id": "1fd37f4e-d9e1-4831-8928-648cef99e748",
    "execution_millis": 450,
    "execution_start": 1731185485079,
    "id": "A4QOaw_zYLfI",
    "lines_to_end_of_cell_marker": 2,
    "source_hash": "41a9a3d"
   },
   "outputs": [],
   "source": [
    "import numpy as np\n",
    "from pydrake.geometry import StartMeshcat\n",
    "from pydrake.multibody.inverse_kinematics import (\n",
    "    DifferentialInverseKinematicsParameters,\n",
    "    DifferentialInverseKinematicsStatus,\n",
    "    DoDifferentialInverseKinematics,\n",
    ")\n",
    "from pydrake.systems.analysis import Simulator\n",
    "from pydrake.systems.framework import DiagramBuilder, EventStatus, LeafSystem\n",
    "from pydrake.visualization import MeshcatPoseSliders\n",
    "\n",
    "from manipulation import running_as_notebook\n",
    "from manipulation.meshcat_utils import StopButton, WsgButton\n",
    "from manipulation.station import LoadScenario, MakeHardwareStation, MakeMultibodyPlant\n",
    "from manipulation.systems import AddIiwaDifferentialIK, MultibodyPositionToBodyPose"
   ]
  },
  {
   "cell_type": "code",
   "execution_count": 3,
   "metadata": {
    "cell_id": "f08b046f6b7449b8a220f5030428f900",
    "deepnote_cell_type": "code",
    "execution_context_id": "1fd37f4e-d9e1-4831-8928-648cef99e748",
    "execution_millis": 38,
    "execution_start": 1731185485578,
    "source_hash": "6d42057f"
   },
   "outputs": [
    {
     "name": "stderr",
     "output_type": "stream",
     "text": [
      "INFO:drake:Meshcat listening for connections at http://localhost:7000\n"
     ]
    }
   ],
   "source": [
    "# Start the visualizer.\n",
    "meshcat = StartMeshcat()"
   ]
  },
  {
   "cell_type": "markdown",
   "metadata": {
    "cell_id": "1da0ebe867b54232a570e0dce37bf046",
    "colab_type": "text",
    "deepnote_cell_type": "markdown",
    "id": "C1sdq2R88C16"
   },
   "source": [
    "# Teleop Example (2D)\n",
    "\n",
    "In this example, we assemble a diagram with all of the relevant subsystems (the manipulation station, the meshcat visualizer, and some systems that provide a minimal teleop interface and convert the teleop output from end-effector commands into joint commands.  We'll learn more about each of these components in the following chapters.\n",
    "\n",
    "**NOTE:** If you command the robot to move its gripper beyond what is possible, then you get a message about \"differential IK\" failing.  I've left that in for now (rather than setting very conservative slider limits) partly because it has tutorial value.  We'll understand it more precisely soon!  For now, just stop the simulation and rerun the cell if you get stuck.\n"
   ]
  },
  {
   "cell_type": "code",
   "execution_count": null,
   "metadata": {
    "cell_id": "13c1461ebdf14901badef4289a0d47fa",
    "colab": {},
    "colab_type": "code",
    "deepnote_cell_type": "code",
    "execution_context_id": "1fd37f4e-d9e1-4831-8928-648cef99e748",
    "execution_millis": 29053207,
    "execution_start": 1731185485678,
    "id": "7dimkJhd9DjP",
    "source_hash": "39f63a23"
   },
   "outputs": [
    {
     "name": "stderr",
     "output_type": "stream",
     "text": [
      "INFO:drake:PackageMap: Downloading https://github.com/RobotLocomotion/models/archive/69c92595a391eb023c27ab6ac8f80d58a3e4612d.tar.gz\n",
      "WARNING:drake:InputPort[1] (X_WE_desired) of System ::drake/multibody/DifferentialInverseKinematicsIntegrator@000055555810b4d0 (DifferentialInverseKinematicsIntegrator) is deprecated: Use the `X_AE_desired` input port instead.\n"
     ]
    },
    {
     "name": "stdout",
     "output_type": "stream",
     "text": [
      "Press Space to open/close the gripper\n",
      "Press Escape to stop the simulation\n"
     ]
    }
   ],
   "source": [
    "scenario_data = \"\"\"\n",
    "directives:\n",
    "- add_model:\n",
    "    name: iiwa\n",
    "    file: package://manipulation/planar_iiwa14_no_collision.urdf\n",
    "    default_joint_positions:\n",
    "        iiwa_joint_2: [0.1]\n",
    "        iiwa_joint_4: [-1.2]\n",
    "        iiwa_joint_6: [1.6]\n",
    "- add_weld:\n",
    "    parent: world\n",
    "    child: iiwa::iiwa_link_0\n",
    "- add_model:\n",
    "    name: wsg\n",
    "    file: package://manipulation/hydro/schunk_wsg_50_with_tip.sdf\n",
    "- add_weld:\n",
    "    parent: iiwa::iiwa_link_7\n",
    "    child: wsg::body\n",
    "    X_PC:\n",
    "        translation: [0, 0, 0.09]\n",
    "        rotation: !Rpy { deg: [90, 0, 90]}\n",
    "- add_model:\n",
    "    name: foam_brick\n",
    "    file: package://manipulation/hydro/061_foam_brick.sdf\n",
    "- add_model:\n",
    "    name: robot_table\n",
    "    file: package://manipulation/hydro/extra_heavy_duty_table_surface_only_collision.sdf\n",
    "- add_weld:\n",
    "    parent: world\n",
    "    child: robot_table::link\n",
    "    X_PC:\n",
    "        translation: [0, 0, -0.7645]\n",
    "- add_model:\n",
    "    name: work_table\n",
    "    file: package://manipulation/hydro/extra_heavy_duty_table_surface_only_collision.sdf\n",
    "- add_weld:\n",
    "    parent: world\n",
    "    child: work_table::link\n",
    "    X_PC:\n",
    "        translation: [0.75, 0, -0.7645]\n",
    "# Restrict the brick to move only in the x-z plane\n",
    "- add_model:\n",
    "    name: planar_joint\n",
    "    file: package://manipulation/planar_joint.sdf\n",
    "    default_joint_positions:\n",
    "        planar_joint: [0.6, 0, 0]\n",
    "- add_weld:\n",
    "    parent: world\n",
    "    child: planar_joint::parent\n",
    "    X_PC:\n",
    "        rotation: !Rpy { deg: [90, 0, 0]}\n",
    "- add_weld:\n",
    "    parent: planar_joint::child\n",
    "    child: foam_brick::base_link\n",
    "model_drivers:\n",
    "    iiwa: !IiwaDriver\n",
    "      control_mode: position_only\n",
    "      hand_model_name: wsg\n",
    "    wsg: !SchunkWsgDriver {}\n",
    "\"\"\"\n",
    "\n",
    "\n",
    "def teleop_2d():\n",
    "    scenario = LoadScenario(data=scenario_data)\n",
    "    meshcat.Set2dRenderMode(xmin=-0.25, xmax=1.5, ymin=-0.1, ymax=1.3)\n",
    "\n",
    "    builder = DiagramBuilder()\n",
    "\n",
    "    station = builder.AddSystem(MakeHardwareStation(scenario, meshcat))\n",
    "\n",
    "    # Set up differential inverse kinematics.\n",
    "    diff_ik_plant = MakeMultibodyPlant(scenario, model_instance_names=[\"iiwa\"])\n",
    "    differential_ik = AddIiwaDifferentialIK(builder, diff_ik_plant)\n",
    "    builder.Connect(\n",
    "        differential_ik.get_output_port(),\n",
    "        station.GetInputPort(\"iiwa.position\"),\n",
    "    )\n",
    "    builder.Connect(\n",
    "        station.GetOutputPort(\"iiwa.state_estimated\"),\n",
    "        differential_ik.GetInputPort(\"robot_state\"),\n",
    "    )\n",
    "\n",
    "    # Set up teleop widgets.\n",
    "    meshcat.DeleteAddedControls()\n",
    "    teleop = builder.AddSystem(\n",
    "        MeshcatPoseSliders(\n",
    "            meshcat,\n",
    "            lower_limit=[0, -np.pi, -np.pi, -0.6, -1, 0],\n",
    "            upper_limit=[2 * np.pi, np.pi, np.pi, 0.8, 1, 1.1],\n",
    "            # Only roll, x, and z are used in this example:\n",
    "            visible=[True, False, False, True, False, True],\n",
    "            decrement_keycodes=[\"KeyQ\", \"\", \"\", \"ArrowLeft\", \"\", \"ArrowDown\"],\n",
    "            increment_keycodes=[\"KeyE\", \"\", \"\", \"ArrowRight\", \"\", \"ArrowUp\"],\n",
    "        )\n",
    "    )\n",
    "    builder.Connect(\n",
    "        teleop.get_output_port(), differential_ik.GetInputPort(\"X_WE_desired\")\n",
    "    )\n",
    "    ee_pose = builder.AddSystem(\n",
    "        MultibodyPositionToBodyPose(\n",
    "            diff_ik_plant, diff_ik_plant.GetBodyByName(\"iiwa_link_7\")\n",
    "        )\n",
    "    )\n",
    "    builder.Connect(\n",
    "        station.GetOutputPort(\"iiwa.position_measured\"), ee_pose.get_input_port()\n",
    "    )\n",
    "    builder.Connect(ee_pose.get_output_port(), teleop.get_input_port())\n",
    "    wsg_teleop = builder.AddSystem(WsgButton(meshcat))\n",
    "    builder.Connect(wsg_teleop.get_output_port(0), station.GetInputPort(\"wsg.position\"))\n",
    "    builder.AddSystem(StopButton(meshcat))\n",
    "\n",
    "    # Simulate.\n",
    "    diagram = builder.Build()\n",
    "    simulator = Simulator(diagram)\n",
    "\n",
    "    if running_as_notebook:  # Then we're not just running as a test on CI.\n",
    "        simulator.set_target_realtime_rate(1.0)\n",
    "        simulator.AdvanceTo(np.inf)\n",
    "    else:\n",
    "        simulator.set_target_realtime_rate(0)\n",
    "        simulator.AdvanceTo(0.1)\n",
    "\n",
    "\n",
    "teleop_2d()"
   ]
  },
  {
   "cell_type": "markdown",
   "metadata": {
    "cell_id": "5ae7f1596af7401e846049ca9db96654",
    "colab_type": "text",
    "deepnote_cell_type": "markdown",
    "id": "4cTkwpJU8tGX"
   },
   "source": [
    "# Teleop Example (3D)\n",
    "\n",
    "The physics and geometry engines running in the simulation above are actually running in 3D.  This example is almost identical, but we'll use the (default) 3D visualization and add more sliders for controlling the full `roll`, `pitch`, `yaw` angles and `x`, `y`, `z` positions of the end effector."
   ]
  },
  {
   "cell_type": "code",
   "execution_count": null,
   "metadata": {
    "cell_id": "edc43266b8ee4613aa76b86f15ea45af",
    "colab": {},
    "colab_type": "code",
    "deepnote_cell_type": "code",
    "deepnote_to_be_reexecuted": true,
    "execution_context_id": "1fd37f4e-d9e1-4831-8928-648cef99e748",
    "id": "8wj7ZlyEw_AB"
   },
   "outputs": [],
   "source": [
    "scenario_data = \"\"\"\n",
    "directives:\n",
    "- add_directives:\n",
    "    file: package://manipulation/clutter.dmd.yaml\n",
    "- add_model:\n",
    "    name: foam_brick\n",
    "    file: package://manipulation/hydro/061_foam_brick.sdf\n",
    "    default_free_body_pose:\n",
    "        base_link:\n",
    "            translation: [0, -0.6, 0.2]\n",
    "model_drivers:\n",
    "    iiwa: !IiwaDriver\n",
    "      control_mode: position_only\n",
    "      hand_model_name: wsg\n",
    "    wsg: !SchunkWsgDriver {}\n",
    "\"\"\"\n",
    "\n",
    "\n",
    "def teleop_3d():\n",
    "    meshcat.ResetRenderMode()\n",
    "\n",
    "    builder = DiagramBuilder()\n",
    "\n",
    "    scenario = LoadScenario(data=scenario_data)\n",
    "    station = builder.AddSystem(MakeHardwareStation(scenario, meshcat))\n",
    "\n",
    "    # Set up differential inverse kinematics.\n",
    "    diff_ik_plant = MakeMultibodyPlant(scenario, model_instance_names=[\"iiwa\"])\n",
    "    differential_ik = AddIiwaDifferentialIK(builder, diff_ik_plant)\n",
    "    builder.Connect(\n",
    "        differential_ik.get_output_port(),\n",
    "        station.GetInputPort(\"iiwa.position\"),\n",
    "    )\n",
    "    builder.Connect(\n",
    "        station.GetOutputPort(\"iiwa.state_estimated\"),\n",
    "        differential_ik.GetInputPort(\"robot_state\"),\n",
    "    )\n",
    "\n",
    "    # Set up teleop widgets.\n",
    "    meshcat.DeleteAddedControls()\n",
    "    teleop = builder.AddSystem(\n",
    "        MeshcatPoseSliders(\n",
    "            meshcat,\n",
    "            lower_limit=[0, -0.5, -np.pi, -0.6, -0.8, 0.0],\n",
    "            upper_limit=[2 * np.pi, np.pi, np.pi, 0.8, 0.3, 1.1],\n",
    "        )\n",
    "    )\n",
    "    builder.Connect(\n",
    "        teleop.get_output_port(), differential_ik.GetInputPort(\"X_WE_desired\")\n",
    "    )\n",
    "    ee_pose = builder.AddSystem(\n",
    "        MultibodyPositionToBodyPose(\n",
    "            diff_ik_plant, diff_ik_plant.GetBodyByName(\"iiwa_link_7\")\n",
    "        )\n",
    "    )\n",
    "    builder.Connect(\n",
    "        station.GetOutputPort(\"iiwa.position_measured\"), ee_pose.get_input_port()\n",
    "    )\n",
    "    builder.Connect(ee_pose.get_output_port(), teleop.get_input_port())\n",
    "    wsg_teleop = builder.AddSystem(WsgButton(meshcat))\n",
    "    builder.Connect(wsg_teleop.get_output_port(0), station.GetInputPort(\"wsg.position\"))\n",
    "    builder.AddSystem(StopButton(meshcat))\n",
    "\n",
    "    diagram = builder.Build()\n",
    "    simulator = Simulator(diagram)\n",
    "    simulator.get_mutable_context()\n",
    "\n",
    "    if running_as_notebook:  # Then we're not just running as a test on CI.\n",
    "        simulator.set_target_realtime_rate(1.0)\n",
    "        simulator.AdvanceTo(np.inf)\n",
    "    else:\n",
    "        simulator.set_target_realtime_rate(0)\n",
    "        simulator.AdvanceTo(0.1)\n",
    "\n",
    "\n",
    "teleop_3d()"
   ]
  },
  {
   "cell_type": "markdown",
   "metadata": {
    "cell_id": "aefe2999828a496e80f4872bc345cba1",
    "deepnote_cell_type": "markdown"
   },
   "source": [
    "# Teleop with a GamePad\n",
    "\n",
    "If you have a [gamepad](https://gamepad-tester.com/) connected to your computer, then you can press a button with the meshcat window in focus to activate gamepad support. Here is the demo again with the gamepad interface.\n",
    "\n",
    "```\n",
    "END EFFECTOR CONTROL\n",
    "-----------------------------------------\n",
    "+/- x-axis         - leftjoy left / right\n",
    "+/- y-axis         - leftjoy up / down\n",
    "+/- roll           - rightjoy up / down\n",
    "+/- pitch          - rightjoy left / right\n",
    "+/- z-axis         - l2 / r2\n",
    "+/- yaw            - l1 / r1\n",
    "\n",
    "GRIPPER CONTROL\n",
    "-----------------------------------------\n",
    "open / close       - square / circle (O)\n",
    "\n",
    "-----------------------------------------\n",
    "x button           - quit\n",
    "```"
   ]
  },
  {
   "cell_type": "code",
   "execution_count": null,
   "metadata": {
    "cell_id": "22fa8b774b3848b7a39ed1459e627f6c",
    "deepnote_cell_type": "code",
    "deepnote_to_be_reexecuted": true,
    "execution_context_id": "1fd37f4e-d9e1-4831-8928-648cef99e748"
   },
   "outputs": [],
   "source": [
    "scenario_data = \"\"\"\n",
    "directives:\n",
    "- add_directives:\n",
    "    file: package://manipulation/clutter.dmd.yaml\n",
    "- add_model:\n",
    "    name: foam_brick\n",
    "    file: package://manipulation/hydro/061_foam_brick.sdf\n",
    "    default_free_body_pose:\n",
    "        base_link:\n",
    "            translation: [0, -0.6, 0.2]\n",
    "model_drivers:\n",
    "    iiwa: !IiwaDriver\n",
    "      control_mode: position_only\n",
    "      hand_model_name: wsg\n",
    "    wsg: !SchunkWsgDriver {}\n",
    "\"\"\"\n",
    "\n",
    "\n",
    "# TODO(russt): Clean this up and move it to a .py file.\n",
    "class GamepadDiffIK(LeafSystem):\n",
    "    def __init__(self, meshcat, plant, frame_E):\n",
    "        \"\"\"\n",
    "        Args:\n",
    "            meshcat: A Meshcat instance.\n",
    "            plant: A multibody plant (to use for differential ik). It is\n",
    "              probably the plant used for control, not for simulation (it should only contain the robot, not the objects).\n",
    "            frame: A frame in to control `plant`.\n",
    "        \"\"\"\n",
    "        LeafSystem.__init__(self)\n",
    "\n",
    "        self.DeclareVectorInputPort(\"robot_state\", plant.num_multibody_states())\n",
    "        self.DeclareInitializationDiscreteUpdateEvent(self.Initialize)\n",
    "\n",
    "        port = self.DeclareVectorOutputPort(\n",
    "            \"iiwa.position\", plant.num_positions(), self.OutputIiwaPosition\n",
    "        )\n",
    "        # The gamepad has undeclared state.  For now, we accept it,\n",
    "        # and simply disable caching on the output port.\n",
    "        port.disable_caching_by_default()\n",
    "\n",
    "        port = self.DeclareVectorOutputPort(\"wsg.position\", 1, self.OutputWsgPosition)\n",
    "\n",
    "        self.DeclareDiscreteState(plant.num_positions())  # iiwa position\n",
    "        self.DeclareDiscreteState(1)  # wsg position\n",
    "        self.DeclareDiscreteState(1)  # gripper button pressed\n",
    "        self._time_step = 0.05\n",
    "        self.DeclarePeriodicDiscreteUpdateEvent(self._time_step, 0, self.Integrate)\n",
    "\n",
    "        self._meshcat = meshcat\n",
    "        self._plant = plant\n",
    "        self._plant_context = plant.CreateDefaultContext()\n",
    "\n",
    "        if frame_E is None:\n",
    "            frame_E = plant.GetFrameByName(\"body\")  # wsg gripper frame\n",
    "        self._frame_E = frame_E\n",
    "\n",
    "        params = DifferentialInverseKinematicsParameters(\n",
    "            plant.num_positions(), plant.num_velocities()\n",
    "        )\n",
    "        q0 = plant.GetPositions(plant.CreateDefaultContext())\n",
    "        params.set_time_step(self._time_step)\n",
    "        params.set_nominal_joint_position(q0)\n",
    "        params.set_end_effector_angular_speed_limit(2)\n",
    "        params.set_end_effector_translational_velocity_limits([-2, -2, -2], [2, 2, 2])\n",
    "        iiwa14_velocity_limits = np.array([1.4, 1.4, 1.7, 1.3, 2.2, 2.3, 2.3])\n",
    "        params.set_joint_velocity_limits(\n",
    "            (-iiwa14_velocity_limits, iiwa14_velocity_limits)\n",
    "        )\n",
    "        params.set_joint_centering_gain(10 * np.eye(7))\n",
    "\n",
    "        self._diff_ik_params = params\n",
    "        self._wsg_open = 0.107\n",
    "        self._wsg_close = 0.002\n",
    "\n",
    "    def Initialize(self, context, discrete_state):\n",
    "        discrete_state.set_value(\n",
    "            0,\n",
    "            self.get_input_port().Eval(context)[: self._plant.num_positions()],\n",
    "        )\n",
    "        discrete_state.set_value(1, [self._wsg_open])\n",
    "        discrete_state.set_value(2, [0])\n",
    "\n",
    "    def Integrate(self, context, discrete_state):\n",
    "        gamepad = self._meshcat.GetGamepad()\n",
    "\n",
    "        # https://beej.us/blog/data/javascript-gamepad/\n",
    "        def CreateStickDeadzone(x, y):\n",
    "            stick = np.array([x, y])\n",
    "            deadzone = 0.3\n",
    "            m = np.linalg.norm(stick)\n",
    "            if m < deadzone:\n",
    "                return np.array([0, 0])\n",
    "            over = (m - deadzone) / (1 - deadzone)\n",
    "            return stick * over / m\n",
    "\n",
    "        left = CreateStickDeadzone(gamepad.axes[0], gamepad.axes[1])\n",
    "        right = CreateStickDeadzone(gamepad.axes[2], gamepad.axes[3])\n",
    "\n",
    "        V_WE_desired = np.zeros((6,))\n",
    "        # TODO(russt): Properly implement rpydot to angular velocity.\n",
    "        V_WE_desired[0] = -0.2 * right[0]  # Right stick x => wx\n",
    "        V_WE_desired[1] = 0.2 * right[0]  # Right stick y => wy\n",
    "        if gamepad.button_values[4] > 0.2 or gamepad.button_values[5] > 0.2:\n",
    "            # l1/r1 => wz\n",
    "            V_WE_desired[2] = 0.2 * (\n",
    "                gamepad.button_values[5] - gamepad.button_values[4]\n",
    "            )\n",
    "        V_WE_desired[3] = -0.2 * left[0]  # Left stick x => vx\n",
    "        V_WE_desired[4] = 0.2 * left[1]  # Left stick y => vy\n",
    "        if gamepad.button_values[6] > 0.2 or gamepad.button_values[7] > 0.2:\n",
    "            # l2/r2 => vx\n",
    "            V_WE_desired[5] = 0.2 * (\n",
    "                gamepad.button_values[7] - gamepad.button_values[6]\n",
    "            )\n",
    "\n",
    "        q = np.copy(context.get_discrete_state(0).get_value())\n",
    "        self._plant.SetPositions(self._plant_context, q)\n",
    "        result = DoDifferentialInverseKinematics(\n",
    "            self._plant,\n",
    "            self._plant_context,\n",
    "            V_WE_desired,\n",
    "            self._frame_E,\n",
    "            self._diff_ik_params,\n",
    "        )\n",
    "        if result.status != DifferentialInverseKinematicsStatus.kNoSolutionFound:\n",
    "            discrete_state.set_value(0, q + self._time_step * result.joint_velocities)\n",
    "\n",
    "        # Toggle gripper open/close based on buttons\n",
    "        x_pressed = context.get_discrete_state(2).get_value()[0]\n",
    "        if gamepad.button_values[1] > 0.5:\n",
    "            if not x_pressed:\n",
    "                wsg_position = context.get_discrete_state(1).get_value()[0]\n",
    "                if wsg_position == self._wsg_open:\n",
    "                    discrete_state.set_value(1, [self._wsg_close])\n",
    "                else:\n",
    "                    discrete_state.set_value(1, [self._wsg_open])\n",
    "            discrete_state.set_value(2, [1])\n",
    "        else:\n",
    "            discrete_state.set_value(2, [0])\n",
    "\n",
    "        # TODO(russt): This doesn't actually work yet, since the event status\n",
    "        # is being discarded in the pybind later.\n",
    "        if gamepad.button_values[0] > 0.5:\n",
    "            return EventStatus.ReachedTermination(self, \"x button pressed\")\n",
    "\n",
    "        return EventStatus.Succeeded()\n",
    "\n",
    "    def OutputIiwaPosition(self, context, output):\n",
    "        output.set_value(context.get_discrete_state(0).get_value())\n",
    "\n",
    "    def OutputWsgPosition(self, context, output):\n",
    "        output.set_value(context.get_discrete_state(1).get_value())\n",
    "\n",
    "\n",
    "def gamepad_teleop():\n",
    "    if meshcat.GetGamepad().index == None:\n",
    "        print(\n",
    "            \"Press a button on the gamepad with the meshcat window in focus to activate gamepad support (then run this cell again).\"\n",
    "        )\n",
    "        return\n",
    "\n",
    "    builder = DiagramBuilder()\n",
    "\n",
    "    scenario = LoadScenario(data=scenario_data)\n",
    "    station = builder.AddSystem(MakeHardwareStation(scenario, meshcat))\n",
    "    meshcat.ResetRenderMode()\n",
    "    meshcat.DeleteAddedControls()\n",
    "\n",
    "    diff_ik_plant = MakeMultibodyPlant(scenario, model_instance_names=[\"iiwa\"])\n",
    "    frame = diff_ik_plant.GetFrameByName(\"iiwa_link_7\")\n",
    "    gamepad = builder.AddSystem(GamepadDiffIK(meshcat, diff_ik_plant, frame))\n",
    "    builder.Connect(\n",
    "        gamepad.GetOutputPort(\"iiwa.position\"),\n",
    "        station.GetInputPort(\"iiwa.position\"),\n",
    "    )\n",
    "    builder.Connect(\n",
    "        gamepad.GetOutputPort(\"wsg.position\"),\n",
    "        station.GetInputPort(\"wsg.position\"),\n",
    "    )\n",
    "    builder.Connect(\n",
    "        station.GetOutputPort(\"iiwa.state_estimated\"),\n",
    "        gamepad.GetInputPort(\"robot_state\"),\n",
    "    )\n",
    "    builder.AddSystem(StopButton(meshcat))\n",
    "\n",
    "    diagram = builder.Build()\n",
    "    simulator = Simulator(diagram)\n",
    "    simulator.get_mutable_context()\n",
    "\n",
    "    simulator.set_target_realtime_rate(1.0)\n",
    "    simulator.AdvanceTo(np.inf)\n",
    "\n",
    "\n",
    "gamepad_teleop()"
   ]
  },
  {
   "cell_type": "code",
   "execution_count": null,
   "metadata": {
    "cell_id": "cb8f977e66bb4488a899bbf2df757a8c",
    "deepnote_cell_type": "code",
    "deepnote_to_be_reexecuted": true,
    "execution_context_id": "1fd37f4e-d9e1-4831-8928-648cef99e748"
   },
   "outputs": [],
   "source": []
  },
  {
   "cell_type": "markdown",
   "metadata": {
    "cell_id": "046b4d5cfa774b5eb1b4ebf1010b7076",
    "deepnote_cell_type": "text-cell-h1",
    "formattedRanges": []
   },
   "source": [
    "# HW 1 Answers below:"
   ]
  },
  {
   "cell_type": "markdown",
   "metadata": {
    "cell_id": "204ee5e6f3964562915085311a289d30",
    "deepnote_cell_type": "text-cell-p",
    "formattedRanges": []
   },
   "source": [
    "Check out the growing list of Drake tutorials (linked from the main Drake page). "
   ]
  },
  {
   "cell_type": "markdown",
   "metadata": {
    "cell_id": "8625e375cde9468c9110386ee5660d3f",
    "deepnote_cell_type": "text-cell-p",
    "formattedRanges": [
     {
      "fromCodePoint": 132,
      "marks": {
       "color": "#D33800"
      },
      "toCodePoint": 176,
      "type": "marks"
     }
    ]
   },
   "source": [
    "1) In the dynamical_systems tutorial, to what value is the initial condition,, set when we simulate the SimpleContinuousTimeSystem?\n",
    "x[0] is set to 0.9 as initial condition via:"
   ]
  },
  {
   "cell_type": "markdown",
   "metadata": {
    "cell_id": "ccfb1e07f6e2419c8824a327e3718220",
    "deepnote_cell_type": "text-cell-p",
    "formattedRanges": [
     {
      "fromCodePoint": 0,
      "marks": {
       "code": true,
       "color": "#D33800"
      },
      "toCodePoint": 110,
      "type": "marks"
     }
    ]
   },
   "source": [
    "# Set the initial conditions, x(0).\n",
    "context = diagram.CreateDefaultContext()\n",
    "context.SetContinuousState([0.9])"
   ]
  },
  {
   "cell_type": "markdown",
   "metadata": {
    "cell_id": "85a8f66b869e4e468f5d931c0209923b",
    "deepnote_cell_type": "text-cell-p",
    "formattedRanges": []
   },
   "source": [
    "2) The class-/function-level documentation is the most extensive documentation in Drake. When I'm working on Drake (in either C++ or Python), I most often have the C++ doxygen open. The Python documentation is (mostly) auto-generated from this and isn't curated as carefully; I tend to look there only in the rare cases that the Python interface differs from C++. In C++ doxygen, search for \"Spatial Vectors\". What ascii characters do we use to denote an angular acceleration in code?"
   ]
  },
  {
   "cell_type": "markdown",
   "metadata": {
    "cell_id": "03a0648f5d704464b1fa22f82dff8581",
    "deepnote_cell_type": "text-cell-p",
    "formattedRanges": [
     {
      "fromCodePoint": 0,
      "marks": {
       "color": "#D33800"
      },
      "toCodePoint": 2,
      "type": "marks"
     }
    ]
   },
   "source": [
    "α "
   ]
  },
  {
   "cell_type": "markdown",
   "metadata": {
    "cell_id": "a482d3faff9f47e997eea0905a357b99",
    "deepnote_cell_type": "text-cell-p",
    "formattedRanges": []
   },
   "source": [
    "3) Drake is open-source. There are no black-box algorithms here. If you ever want to see how a particular algorithm is implemented, or find examples of how to use a function, you can always look at the source code. These days you can use VS Code to explore the code right in your browser. What value of convergence_tol do I use in the unit test for \"fitted value iteration\"?"
   ]
  },
  {
   "cell_type": "markdown",
   "metadata": {
    "cell_id": "471620f05fcc4d29948e11b14f5ad5eb",
    "deepnote_cell_type": "text-cell-p",
    "formattedRanges": [
     {
      "fromCodePoint": 0,
      "marks": {
       "code": true,
       "color": "#D33800"
      },
      "toCodePoint": 28,
      "type": "marks"
     }
    ]
   },
   "source": [
    "options.convergence_tol = 1."
   ]
  },
  {
   "cell_type": "markdown",
   "metadata": {
    "created_in_deepnote_cell": true,
    "deepnote_cell_type": "markdown"
   },
   "source": [
    "<a style='text-decoration:none;line-height:16px;display:flex;color:#5B5B62;padding:10px;justify-content:end;' href='https://deepnote.com?utm_source=created-in-deepnote-cell&projectId=37c102e3-f411-472e-9467-fbb08bc55eab' target=\"_blank\">\n",
    "<img alt='Created in deepnote.com' style='display:inline;max-height:16px;margin:0px;margin-right:7.5px;' src='data:image/svg+xml;base64,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' > </img>\n",
    "Created in <span style='font-weight:600;margin-left:4px;'>Deepnote</span></a>"
   ]
  }
 ],
 "metadata": {
  "deepnote_notebook_id": "c7ebaac6382b4ce2a5e22a9d97f79160",
  "kernelspec": {
   "display_name": "Python 3",
   "language": "python",
   "name": "python3"
  },
  "language_info": {
   "codemirror_mode": {
    "name": "ipython",
    "version": 3
   },
   "file_extension": ".py",
   "mimetype": "text/x-python",
   "name": "python",
   "nbconvert_exporter": "python",
   "pygments_lexer": "ipython3",
   "version": "3.10.12"
  }
 },
 "nbformat": 4,
 "nbformat_minor": 0
}
