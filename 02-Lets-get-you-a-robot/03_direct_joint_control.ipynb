{
 "cells": [
  {
   "cell_type": "markdown",
   "metadata": {
    "cell_id": "3850bc41f163447ca1e69be6c9ea458b",
    "deepnote_cell_type": "markdown"
   },
   "source": [
    "# Drake practice - \"Direct\" Joint Angle Teleop\n",
    "First, we provide a reference to the first example notebook of chapter 1. Then, in the bottom cell, you will find a similar function with slightly different functionality, and code missing that you are required to fill in. Take a look below for further instructions!"
   ]
  },
  {
   "cell_type": "markdown",
   "metadata": {
    "cell_id": "9ccbe92975194ebc826de0b06033eef7",
    "deepnote_cell_type": "markdown"
   },
   "source": [
    "## Review: 2D End-effector Teleop (from Chapter 1)\n",
    "\n",
    "In the chapter 1 [example](https://manipulation.csail.mit.edu/intro.html#teleop2d), we assembled a diagram with the manipulation station, a meshcat visualizer, some systems that provide a minimal teleop interface, along with some systems to convert the teleop output from end-effector commands into joint commands.\n",
    "\n",
    "In this problem, your goal is to build an even simpler diagram, which instead directly controls the joint angles of the robot.\n"
   ]
  },
  {
   "cell_type": "markdown",
   "metadata": {
    "cell_id": "c267ae5ea5eb412abced6ec413613ce7",
    "deepnote_cell_type": "markdown"
   },
   "source": [
    "## Setup\n",
    "Imports from drake and starting the Meshcat viewer."
   ]
  },
  {
   "cell_type": "code",
   "execution_count": 2,
   "metadata": {
    "cell_id": "cf4a5249c98847a19ebdf2cb6b433e88",
    "deepnote_cell_type": "code",
    "execution_context_id": "d6b543a7-a1ff-4486-9d37-9a9fec5e680b",
    "execution_millis": 465,
    "execution_start": 1731181995831,
    "source_hash": "8950c03b"
   },
   "outputs": [],
   "source": [
    "import numpy as np\n",
    "from pydrake.all import DiagramBuilder, LeafSystem, Simulator, StartMeshcat\n",
    "\n",
    "from manipulation import running_as_notebook\n",
    "from manipulation.exercises.grader import Grader\n",
    "from manipulation.exercises.robot.test_direct_joint_control import (\n",
    "    TestDirectJointControl,\n",
    ")\n",
    "from manipulation.station import LoadScenario, MakeHardwareStation"
   ]
  },
  {
   "cell_type": "code",
   "execution_count": 3,
   "metadata": {
    "cell_id": "61e6255a87d2466d8506620bae79cd3c",
    "deepnote_cell_type": "code",
    "execution_context_id": "d6b543a7-a1ff-4486-9d37-9a9fec5e680b",
    "execution_millis": 0,
    "execution_start": 1731181996340,
    "source_hash": "a97fc758"
   },
   "outputs": [
    {
     "name": "stderr",
     "output_type": "stream",
     "text": [
      "INFO:drake:Meshcat listening for connections at http://localhost:7002\n"
     ]
    }
   ],
   "source": [
    "# Start the visualizer.\n",
    "meshcat = StartMeshcat()\n",
    "meshcat.Set2dRenderMode(xmin=-0.25, xmax=1.5, ymin=-0.1, ymax=1.3)"
   ]
  },
  {
   "cell_type": "code",
   "execution_count": 4,
   "metadata": {
    "cell_id": "1136dedb0b644c5599cf4f4142033806",
    "deepnote_cell_type": "code",
    "execution_context_id": "d6b543a7-a1ff-4486-9d37-9a9fec5e680b",
    "execution_millis": 1,
    "execution_start": 1731181996383,
    "source_hash": "c226283"
   },
   "outputs": [],
   "source": [
    "scenario_data = \"\"\"\n",
    "directives:\n",
    "- add_model:\n",
    "    name: iiwa\n",
    "    file: package://manipulation/planar_iiwa14_no_collision.urdf\n",
    "    default_joint_positions:\n",
    "        iiwa_joint_2: [0.1]\n",
    "        iiwa_joint_4: [-1.2]\n",
    "        iiwa_joint_6: [1.6]\n",
    "- add_weld:\n",
    "    parent: world\n",
    "    child: iiwa::iiwa_link_0\n",
    "model_drivers:\n",
    "    iiwa: !IiwaDriver\n",
    "        control_mode: position_only\n",
    "\"\"\"\n",
    "scenario = LoadScenario(data=scenario_data)"
   ]
  },
  {
   "cell_type": "markdown",
   "metadata": {
    "cell_id": "691274d59d8f4cce8c3c05dc09d817d7",
    "deepnote_cell_type": "markdown"
   },
   "source": [
    "## Directly control the robot joints\n",
    "You'll now get a chance to replace the teleop functionality in the 2D example above with a direct \"joint angle setter\".\n",
    "\n",
    "Compete the `teleop_2d_direct` function below accepting a desired angle of each joint from the user.\n",
    "- Reference `teleop_2d` in the chapter 1 example.\n",
    "- You can leave out all the components that were used in `teleop_2d` which are no longer needed.\n",
    "\n",
    "### The goals of this exercise are twofold:\n",
    "- Understand the way core subsystems in Drake are wired together well enough to know what parts of the `teleop_2d` function must be removed.\n",
    "- Use the information in the examples from the textbook, other exercises, and Drake documentation, to correctly implement the same high-level joint-space control behavior, but using a different Drake function.\n"
   ]
  },
  {
   "cell_type": "code",
   "execution_count": 5,
   "metadata": {
    "cell_id": "5d2ceca61c594dd796220a852c37fc2c",
    "deepnote_cell_type": "code",
    "execution_context_id": "d6b543a7-a1ff-4486-9d37-9a9fec5e680b",
    "execution_millis": 0,
    "execution_start": 1731182282196,
    "source_hash": "206a5726"
   },
   "outputs": [],
   "source": [
    "class CommandInputSystem(LeafSystem):\n",
    "    def __init__(self, interactive, q_cmd):\n",
    "        LeafSystem.__init__(self)\n",
    "\n",
    "        self._interactive = interactive\n",
    "        self._q_cmd = q_cmd\n",
    "\n",
    "        # Declare input and output ports.\n",
    "        self._q_current_input = self.DeclareVectorInputPort(name=\"q_current\", size=3)\n",
    "        self.DeclareVectorOutputPort(name=\"q_cmd\", size=3, calc=self.CalcOutput)\n",
    "\n",
    "    def CalcOutput(self, context, output):\n",
    "        # Read the input port.\n",
    "        q_current = self._q_current_input.Eval(context)\n",
    "\n",
    "        if self._interactive and running_as_notebook and self._q_cmd is None:\n",
    "            q_cmd = q_current.copy()\n",
    "            q_cmd[0] = float(\n",
    "                input(\n",
    "                    f\"Please enter value for first movable joint (current value: {q_current[0]:.3f})\"\n",
    "                )\n",
    "            )\n",
    "            q_cmd[1] = float(\n",
    "                input(\n",
    "                    f\"Please enter value for second movable joint (current value: {q_current[1]:.3f})\"\n",
    "                )\n",
    "            )\n",
    "            q_cmd[2] = input(\n",
    "                f\"Please enter value for third movable joint (current value: {q_current[2]:.3f})\"\n",
    "            )\n",
    "            self._q_cmd = q_cmd\n",
    "        else:\n",
    "            q_cmd = self._q_cmd\n",
    "\n",
    "        if q_cmd is None:\n",
    "            q_cmd = np.zeros(3)\n",
    "\n",
    "        # Write to the output port.\n",
    "        output.SetFromVector(q_cmd)\n",
    "\n",
    "    def reset(self):\n",
    "        self._q_cmd = None\n",
    "\n",
    "\n",
    "def teleop_2d_direct(interactive=False, q_cmd=None):\n",
    "    \"\"\"\n",
    "    Joint position control of the Kuka iiwa robot, without using teleop sliders or differential IK.\n",
    "\n",
    "    Args:\n",
    "        interactive (bool): If True, function will query the user to manually set the desired joint positions\n",
    "            while running the simulator. Otherwise, function will use \"q_cmd\" as the target joint position.\n",
    "        q_cmd (np.ndarray, list): Shape (3,). Desired positions of the three movable joints on the 2D robot.\n",
    "            \"q_cmd\" cannot be None if \"interactive\" is set to False.\n",
    "    \"\"\"\n",
    "    assert (\n",
    "        not interactive and q_cmd is not None\n",
    "    ) or interactive, 'Variable \"q_cmd\" must not be None if the function is run in non-interactive mode'\n",
    "\n",
    "    builder = DiagramBuilder()\n",
    "\n",
    "    station = builder.AddSystem(MakeHardwareStation(scenario, meshcat=meshcat))\n",
    "\n",
    "    command_input_system = builder.AddSystem(CommandInputSystem(interactive, q_cmd))\n",
    "\n",
    "    #######################################################################\n",
    "    # Your code here\n",
    "    # (connect the input and output port of `command_input_system` to the `station` ports)\n",
    "    # (hint: what output ports does the `station` instance have available?)\n",
    "\n",
    "    #######################################################################\n",
    "    builder.Connect(\n",
    "        command_input_system.get_output_port(),\n",
    "        station.GetInputPort(\"iiwa.position\"),\n",
    "    )\n",
    "\n",
    "    builder.Connect(\n",
    "        station.GetOutputPort(\"iiwa.position_measured\"),\n",
    "        command_input_system.GetInputPort(\"q_current\"),\n",
    "    )\n",
    "\n",
    "    diagram = builder.Build()\n",
    "\n",
    "    #######################################################################\n",
    "    # Your code here. We wish to construct the following:\n",
    "    # 1. simulator\n",
    "    # 2. context: The context variable is set to the context owned by the simulator. What public member function can we use to get this context? See https://drake.mit.edu/doxygen_cxx/classdrake_1_1systems_1_1_simulator.html\n",
    "    # 3. station_context: We want a context for the station that is retrieved from the context owned by the simulator. See \"Subcontext access\" at https://drake.mit.edu/doxygen_cxx/classdrake_1_1systems_1_1_system.html\n",
    "\n",
    "    simulator = Simulator(diagram)\n",
    "    context = simulator.get_context()\n",
    "    station_context = station.GetMyContextFromRoot(context)\n",
    "    #######################################################################\n",
    "\n",
    "    if simulator is None:\n",
    "        print(\"You must set the simulator variable above\")\n",
    "        return station, station_context\n",
    "\n",
    "    simulator.set_target_realtime_rate(1.0 if interactive else 0)\n",
    "    meshcat.AddButton(\"Stop Simulation\")\n",
    "    while meshcat.GetButtonClicks(\"Stop Simulation\") < 1:\n",
    "        # Command the desired positions for 2s while simulating.\n",
    "        simulator.AdvanceTo(simulator.get_context().get_time() + 2.0)\n",
    "\n",
    "        q_current_cmd = station.GetOutputPort(\"iiwa.position_commanded\").Eval(\n",
    "            station_context\n",
    "        )\n",
    "        print(f\"Current commanded joint angles: {q_current_cmd}\")\n",
    "\n",
    "        if not interactive or not running_as_notebook:\n",
    "            break\n",
    "        else:\n",
    "            # Reset the input system so that it asks for user input.\n",
    "            command_input_system.reset()\n",
    "\n",
    "    meshcat.DeleteButton(\"Stop Simulation\")\n",
    "\n",
    "    return station, station_context"
   ]
  },
  {
   "cell_type": "markdown",
   "metadata": {
    "cell_id": "e6ff99c5f4da475f918b6e0d94a68b9d",
    "deepnote_cell_type": "markdown"
   },
   "source": [
    "Run the cell below to use the function you wrote in an interactive mode, but note that the autograder will test the functionality of your code in non-interactive mode."
   ]
  },
  {
   "cell_type": "code",
   "execution_count": null,
   "metadata": {
    "cell_id": "0806b3d520b248f7906f6c7b671be779",
    "deepnote_cell_type": "code",
    "execution_context_id": "d6b543a7-a1ff-4486-9d37-9a9fec5e680b",
    "execution_millis": 37661,
    "execution_start": 1731182284364,
    "source_hash": "92d39d17"
   },
   "outputs": [
    {
     "name": "stdout",
     "output_type": "stream",
     "text": [
      "Current commanded joint angles: [0.2 0.4 0.6]\n",
      "Current commanded joint angles: [1. 0. 0.]\n"
     ]
    }
   ],
   "source": [
    "teleop_2d_direct(interactive=True)"
   ]
  },
  {
   "cell_type": "markdown",
   "metadata": {
    "cell_id": "6142e739134544938ccc1cf27c4acd08",
    "deepnote_cell_type": "markdown"
   },
   "source": [
    "## How will this notebook be Graded?\n",
    "\n",
    "If you are enrolled in the class, this notebook will be graded using [Gradescope](www.gradescope.com). You should have gotten the enrollement code on our announcement in Piazza.\n",
    "\n",
    "For submission of this assignment, you must do as follows:.\n",
    "- Download and submit the notebook `direct_joint_control.ipynb` to Gradescope's notebook submission section, along with your notebook for the other problems.\n",
    "\n",
    "We will evaluate the local functions in the notebook to see if the function behaves as we have expected. For this exercise, the rubric is as follows:\n",
    "- [5pts] `teleop_2d_direct` must be implemented correctly (i.e., we will check if you are properly sending position commands to the robot)\n",
    "\n",
    "Below is our autograder where you can check your score!"
   ]
  },
  {
   "cell_type": "code",
   "execution_count": 6,
   "metadata": {
    "cell_id": "df0459f1bd0b4196aac25b190012aeac",
    "deepnote_cell_type": "code",
    "execution_context_id": "d6b543a7-a1ff-4486-9d37-9a9fec5e680b",
    "execution_millis": 653,
    "execution_start": 1731182387944,
    "source_hash": "b11be9f2"
   },
   "outputs": [
    {
     "name": "stdout",
     "output_type": "stream",
     "text": [
      "Total score is 5/5.\n",
      "\n",
      "Score for Test iiwa_position_measured is 5/5.\n",
      "- Current commanded joint angles: [0.1 0.2 0.3]\n",
      "\n"
     ]
    }
   ],
   "source": [
    "Grader.grade_output([TestDirectJointControl], [locals()], \"results.json\")\n",
    "Grader.print_test_results(\"results.json\")"
   ]
  },
  {
   "cell_type": "code",
   "execution_count": null,
   "metadata": {
    "cell_id": "2f339c13f82a4d15ba3f9821faf7c96b",
    "deepnote_cell_type": "code"
   },
   "outputs": [],
   "source": []
  },
  {
   "cell_type": "markdown",
   "metadata": {
    "created_in_deepnote_cell": true,
    "deepnote_cell_type": "markdown"
   },
   "source": [
    "<a style='text-decoration:none;line-height:16px;display:flex;color:#5B5B62;padding:10px;justify-content:end;' href='https://deepnote.com?utm_source=created-in-deepnote-cell&projectId=5d677998-9b15-4f60-9f3c-b38f07359fa2' target=\"_blank\">\n",
    "<img alt='Created in deepnote.com' style='display:inline;max-height:16px;margin:0px;margin-right:7.5px;' src='data:image/svg+xml;base64,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' > </img>\n",
    "Created in <span style='font-weight:600;margin-left:4px;'>Deepnote</span></a>"
   ]
  }
 ],
 "metadata": {
  "deepnote_notebook_id": "7577589c2919469bb169098a1269d6f0",
  "kernelspec": {
   "display_name": "Python 3",
   "language": "python",
   "name": "python3"
  },
  "language_info": {
   "codemirror_mode": {
    "name": "ipython",
    "version": 3
   },
   "file_extension": ".py",
   "mimetype": "text/x-python",
   "name": "python",
   "nbconvert_exporter": "python",
   "pygments_lexer": "ipython3",
   "version": "3.10.12"
  }
 },
 "nbformat": 4,
 "nbformat_minor": 0
}
